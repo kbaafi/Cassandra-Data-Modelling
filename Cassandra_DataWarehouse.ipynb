{
 "cells": [
  {
   "cell_type": "code",
   "execution_count": 1,
   "metadata": {},
   "outputs": [],
   "source": [
    "import pandas as pd\n",
    "import cassandra\n",
    "import re\n",
    "import os\n",
    "import glob\n",
    "import numpy as np\n",
    "import json\n",
    "import csv\n",
    "from cassandra.cluster import Cluster"
   ]
  },
  {
   "cell_type": "markdown",
   "metadata": {},
   "source": [
    "# Data Modeling with Cassandra\n",
    "The purpose of this project is to create a database in Apache Cassandra for maintaining songs and user activity. This will allow analysts to generate insights from user listening patterns. ETL is performed to load data from user logs into the database to enable easy querying. "
   ]
  },
  {
   "cell_type": "markdown",
   "metadata": {},
   "source": [
    "### Input Data\n",
    "Input data in `/event_data/` is partitioned by date and contains the fields: \n",
    "```javascript\n",
    "{artist,auth,firstName,lastName,gender,itemInSession,length,level,location,method,page,registration,sessionId,song}\n",
    "```"
   ]
  },
  {
   "cell_type": "markdown",
   "metadata": {},
   "source": [
    "### Data Queries\n",
    "The design of the database is optimized to answer the following queries:\n",
    "1. Given the sessionId and itemInSession, return artists name, song title and song length from the user activity data\n",
    "2. Given userId and sessionId, return the name of the artist, song title (sorted by itemInSession) and user(firstName and lastName)\n",
    "3. Given the song title, return each user (first and last name) in the music app history who listened to that song"
   ]
  },
  {
   "cell_type": "markdown",
   "metadata": {},
   "source": [
    "### Database Design\n",
    "Unlike regular RDBMS, the data tables in Cassandra have to be denormalized and specifically designed to fit the queries needed since Cassandra does not support cartesian joins\n",
    "\n",
    "#### Query 1:\n",
    "    The following fields are required in the table: {session_id, item_in_session, artist, song_title, song_length}. \n",
    "    The data can be partitioned by session_id and must have item_in_session as an additional composite key\n",
    "#### Query 2:\n",
    "    The following fields are required to model query: {user_id,session_id,item_in_session,artist, song_title, first_name, last_name}.\n",
    "    The data can be partitioned by the composite key (user_id,session_id) with item_in_session as a clustering key\n",
    "#### Query 3:\n",
    "    The following fields are required to model the query: {song_title,user_id,first_name,last_name}.\n",
    "    Primary key is a composite of (song_title and user_id)"
   ]
  },
  {
   "cell_type": "markdown",
   "metadata": {},
   "source": [
    "#### Table Creation and Drop Queries"
   ]
  },
  {
   "cell_type": "code",
   "execution_count": 2,
   "metadata": {},
   "outputs": [],
   "source": [
    "keyspace_name = \"music_app_history\"\n",
    "\n",
    "create_queries = {}\n",
    "drop_queries = {}\n",
    "\n",
    "create_songs_by_session = \"\"\"\n",
    "    create table if not exists  songs_by_session(\n",
    "        session_id int,item_in_session int,artist text,song_title text,song_length float, \n",
    "        primary key ((session_id),item_in_session))\"\"\"\n",
    "\n",
    "create_songs_artist_user = \"\"\"\n",
    "    create table if not exists songs_artist_user(\n",
    "        user_id int,session_id int,item_in_session int,artist text,song_title text,first_name text,last_name text, \n",
    "        primary key ((user_id,session_id),item_in_session)) with clustering order by(item_in_session asc)\"\"\"\n",
    "\n",
    "create_user_songs = \"\"\"\n",
    "    create table if not exists user_songs(\n",
    "        song_title text,user_id int,first_name text,last_name text,\n",
    "        primary key (song_title,user_id))\"\"\"\n",
    "\n",
    "drop_songs_by_session = \"\"\"\n",
    "    drop table if exists songs_by_session\n",
    "\"\"\"\n",
    "\n",
    "drop_songs_artist_user = \"\"\"\n",
    "    drop table if exists songs_artist_user\n",
    "\"\"\"\n",
    "\n",
    "drop_user_songs = \"\"\"\n",
    "    drop table if exists user_songs\n",
    "\"\"\"\n",
    "\n",
    "create_queries[\"songs_by_session\"] = create_songs_by_session\n",
    "create_queries[\"songs_artist_user\"] = create_songs_artist_user\n",
    "create_queries[\"user_songs\"] = create_user_songs\n",
    "\n",
    "drop_queries[\"songs_by_session\"] = drop_songs_by_session\n",
    "drop_queries[\"songs_artist_user\"] = drop_songs_artist_user\n",
    "drop_queries[\"user_songs\"] = drop_user_songs"
   ]
  },
  {
   "cell_type": "markdown",
   "metadata": {},
   "source": [
    "#### Insert Queries"
   ]
  },
  {
   "cell_type": "code",
   "execution_count": 3,
   "metadata": {},
   "outputs": [],
   "source": [
    "insert_queries = {}\n",
    "\n",
    "insert_songs_by_session = \"\"\"\n",
    "        insert into songs_by_session\n",
    "            (session_id,item_in_session,artist,song_title,song_length)\n",
    "                values (%s,%s,%s,%s,%s)\"\"\"\n",
    "\n",
    "insert_songs_artist_user = \"\"\"\n",
    "        insert into songs_artist_user\n",
    "            (user_id,session_id,item_in_session,artist,song_title,first_name,last_name)\n",
    "                values(%s,%s,%s,%s,%s,%s,%s)\"\"\"\n",
    "\n",
    "insert_user_songs = \"\"\"\n",
    "        insert into user_songs\n",
    "            (song_title,user_id,first_name,last_name)\n",
    "                values(%s,%s,%s,%s)\"\"\"\n",
    "\n",
    "insert_queries[\"songs_by_session\"] = insert_songs_by_session\n",
    "insert_queries[\"songs_artist_user\"] = insert_songs_artist_user\n",
    "insert_queries[\"user_songs\"] = insert_user_songs"
   ]
  },
  {
   "cell_type": "markdown",
   "metadata": {},
   "source": [
    "#### Select Queries"
   ]
  },
  {
   "cell_type": "code",
   "execution_count": 4,
   "metadata": {},
   "outputs": [],
   "source": [
    "select_queries = {}\n",
    "\n",
    "select_songs_by_session = \"\"\"\n",
    "        select artist,song_title,song_length from songs_by_session where session_id=%s and item_in_session=%s\n",
    "        \"\"\"\n",
    "\n",
    "select_songs_artist_user = \"\"\"\n",
    "        select artist,song_title,first_name,last_name from songs_artist_user where user_id = %s and session_id = %s\n",
    "        \"\"\"\n",
    "\n",
    "select_user_songs = \"\"\"\n",
    "        select song_title,first_name,last_name from user_songs where song_title=%s\n",
    "        \"\"\"\n",
    "\n",
    "select_queries[\"songs_by_session\"] = select_songs_by_session\n",
    "select_queries[\"songs_artist_user\"] = select_songs_artist_user\n",
    "select_queries[\"user_songs\"] = select_user_songs"
   ]
  },
  {
   "cell_type": "markdown",
   "metadata": {},
   "source": [
    "#### Loading the data\n",
    "This section loads the data from the files in the `/event_data` folder into a single csv file **event_datafile_new.csv** and stores it in the pandas.DataFrame **event_df**"
   ]
  },
  {
   "cell_type": "code",
   "execution_count": 5,
   "metadata": {},
   "outputs": [
    {
     "name": "stdout",
     "output_type": "stream",
     "text": [
      "/home/workspace\n",
      "6820\n"
     ]
    }
   ],
   "source": [
    "# checking your current working directory\n",
    "print(os.getcwd())\n",
    "\n",
    "# Get your current folder and subfolder event data\n",
    "filepath = os.getcwd() + '/event_data/'\n",
    "\n",
    "file_path_list = []\n",
    "for root, dirs, files in os.walk(filepath):\n",
    "    # join the file path and roots with the subdirectories using glob\n",
    "    if (len(dirs)!=0):\n",
    "        file_path_list = glob.glob(os.path.join(root,'*'))\n",
    "\n",
    "# Processing the files to create the data file csv that will be used for Apache Casssandra tables\n",
    "# initiating an empty list of rows that will be generated from each file\n",
    "full_data_rows_list = [] \n",
    "    \n",
    "for f in file_path_list:\n",
    "    with open(f, 'r', encoding = 'utf8', newline='') as csvfile: \n",
    "        csvreader = csv.reader(csvfile) \n",
    "        next(csvreader)\n",
    "               \n",
    "        for line in csvreader:\n",
    "            full_data_rows_list.append(line) \n",
    "            \n",
    "csv.register_dialect('myDialect', quoting=csv.QUOTE_ALL, skipinitialspace=True)\n",
    "\n",
    "with open('event_datafile_new.csv', 'w', encoding = 'utf8', newline='') as f:\n",
    "    writer = csv.writer(f, dialect='myDialect')\n",
    "    writer.writerow(['artist','firstName','gender','itemInSession','lastName','length',\\\n",
    "                'level','location','sessionId','song','userId'])\n",
    "    for row in full_data_rows_list:\n",
    "        if (row[0] == ''):\n",
    "            continue\n",
    "        writer.writerow((row[0], row[2], row[3], row[4], row[5], row[6], row[7], row[8], row[12], row[13], row[16]))\n",
    "\n",
    "events_df = pd.read_csv(\"event_datafile_new.csv\")\n",
    "print(len(events_df.index))"
   ]
  },
  {
   "cell_type": "markdown",
   "metadata": {},
   "source": [
    "### Processing the _events_ data frame"
   ]
  },
  {
   "cell_type": "markdown",
   "metadata": {},
   "source": [
    "#### Creating a cluster and connecting to the database"
   ]
  },
  {
   "cell_type": "code",
   "execution_count": 6,
   "metadata": {},
   "outputs": [],
   "source": [
    "def connect(keyspace_name):\n",
    "    \n",
    "    cluster = Cluster()\n",
    "    session = cluster.connect()\n",
    "    \n",
    "    create_key_space_q = \"CREATE  KEYSPACE IF NOT EXISTS \"+ keyspace_name\n",
    "    create_key_space_q =  create_key_space_q + \" WITH REPLICATION = {'class' : 'SimpleStrategy', 'replication_factor' : 1 }\"\n",
    "    \n",
    "    session.execute(create_key_space_q)\n",
    "    \n",
    "    session.set_keyspace(keyspace_name)\n",
    "    \n",
    "    return session,cluster"
   ]
  },
  {
   "cell_type": "markdown",
   "metadata": {},
   "source": [
    "#### Creating the database"
   ]
  },
  {
   "cell_type": "code",
   "execution_count": 7,
   "metadata": {},
   "outputs": [],
   "source": [
    "# Obtain a connection to the database\n",
    "session,cluster = connect(keyspace_name)\n",
    "\n",
    "# Clear the database\n",
    "for k in drop_queries:\n",
    "    session.execute(drop_queries[k])\n",
    "\n",
    "# Create the tables\n",
    "for k in create_queries:\n",
    "    session.execute(create_queries[k])"
   ]
  },
  {
   "cell_type": "markdown",
   "metadata": {},
   "source": [
    "#### Populating the database"
   ]
  },
  {
   "cell_type": "code",
   "execution_count": 8,
   "metadata": {},
   "outputs": [],
   "source": [
    "for i,row in events_df.iterrows():\n",
    "    session.execute(insert_queries[\"songs_by_session\"],(row.sessionId, row.itemInSession, row.artist, row.song, row.length))\n",
    "    session.execute(insert_queries[\"songs_artist_user\"],(row.userId, row.sessionId, row.itemInSession, row.artist, row.song, row.firstName,row.lastName))\n",
    "    session.execute(insert_queries[\"user_songs\"],(row.song, row.userId,row.firstName,row.lastName))"
   ]
  },
  {
   "cell_type": "markdown",
   "metadata": {},
   "source": [
    "### Testing the database"
   ]
  },
  {
   "cell_type": "markdown",
   "metadata": {},
   "source": [
    "#### Query 1: \n",
    "Given the **sessionId** and **itemInSession**, return artists name, song title and song length from the user activity data"
   ]
  },
  {
   "cell_type": "code",
   "execution_count": 9,
   "metadata": {},
   "outputs": [
    {
     "name": "stdout",
     "output_type": "stream",
     "text": [
      "Row(artist='Kanye West', song_title='Celebration', song_length=198.4779052734375)\n"
     ]
    }
   ],
   "source": [
    "results = session.execute(select_queries[\"songs_by_session\"],(293,94))\n",
    "for item in results:\n",
    "    print(item)"
   ]
  },
  {
   "cell_type": "markdown",
   "metadata": {},
   "source": [
    "#### Query 2: \n",
    "Given **userId** and **sessionId**, return the name of the artist, song title (sorted by itemInSession) and user(firstName and lastName)"
   ]
  },
  {
   "cell_type": "code",
   "execution_count": 10,
   "metadata": {},
   "outputs": [
    {
     "name": "stdout",
     "output_type": "stream",
     "text": [
      "Row(artist='Down To The Bone', song_title=\"Keep On Keepin' On\", first_name='Sylvie', last_name='Cruz')\n",
      "Row(artist='Three Drives', song_title='Greece 2000', first_name='Sylvie', last_name='Cruz')\n",
      "Row(artist='Sebastien Tellier', song_title='Kilometer', first_name='Sylvie', last_name='Cruz')\n",
      "Row(artist='Lonnie Gordon', song_title='Catch You Baby (Steve Pitron & Max Sanna Radio Edit)', first_name='Sylvie', last_name='Cruz')\n"
     ]
    }
   ],
   "source": [
    "results = session.execute(select_queries[\"songs_artist_user\"],(10,182))\n",
    "for item in results:\n",
    "    print(item)"
   ]
  },
  {
   "cell_type": "markdown",
   "metadata": {},
   "source": [
    "#### Query 3: \n",
    "Given the **song title**, return each user (first and last name) in the music app history who listened to that song"
   ]
  },
  {
   "cell_type": "code",
   "execution_count": 11,
   "metadata": {},
   "outputs": [
    {
     "name": "stdout",
     "output_type": "stream",
     "text": [
      "Row(song_title='All Hands Against His Own', first_name='Jacqueline', last_name='Lynch')\n",
      "Row(song_title='All Hands Against His Own', first_name='Tegan', last_name='Levine')\n",
      "Row(song_title='All Hands Against His Own', first_name='Sara', last_name='Johnson')\n"
     ]
    }
   ],
   "source": [
    "results = session.execute(select_queries[\"user_songs\"],('All Hands Against His Own',))\n",
    "for item in results:\n",
    "    print(item)"
   ]
  },
  {
   "cell_type": "markdown",
   "metadata": {},
   "source": [
    "### Clean Up Time!!"
   ]
  },
  {
   "cell_type": "code",
   "execution_count": 12,
   "metadata": {},
   "outputs": [],
   "source": [
    "# Clear the database\n",
    "for k in drop_queries:\n",
    "    session.execute(drop_queries[k])\n",
    "\n",
    "session.shutdown()\n",
    "cluster.shutdown()"
   ]
  }
 ],
 "metadata": {
  "kernelspec": {
   "display_name": "Python 3",
   "language": "python",
   "name": "python3"
  },
  "language_info": {
   "codemirror_mode": {
    "name": "ipython",
    "version": 3
   },
   "file_extension": ".py",
   "mimetype": "text/x-python",
   "name": "python",
   "nbconvert_exporter": "python",
   "pygments_lexer": "ipython3",
   "version": "3.6.3"
  }
 },
 "nbformat": 4,
 "nbformat_minor": 2
}
